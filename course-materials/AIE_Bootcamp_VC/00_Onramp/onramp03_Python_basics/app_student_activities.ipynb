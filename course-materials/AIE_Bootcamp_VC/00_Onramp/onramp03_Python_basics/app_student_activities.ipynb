{
 "cells": [
  {
   "cell_type": "code",
   "execution_count": 1,
   "id": "4a0364ed-e819-4f53-b338-a4abfc91b359",
   "metadata": {},
   "outputs": [
    {
     "data": {
      "text/plain": [
       "True"
      ]
     },
     "execution_count": 1,
     "metadata": {},
     "output_type": "execute_result"
    }
   ],
   "source": [
    "import streamlit as st\n",
    "import pandas as pd\n",
    "import openai\n",
    "import datetime\n",
    "import re\n",
    "import os\n",
    "from dotenv import load_dotenv\n",
    "\n",
    "load_dotenv()"
   ]
  },
  {
   "cell_type": "code",
   "execution_count": 2,
   "id": "f101666d-1bdc-49c7-9ddc-3d2d6c0c2fb5",
   "metadata": {},
   "outputs": [],
   "source": [
    "# Set your OpenAI API key from environment\n",
    "openai.api_key = os.getenv(\"OPENAI_API_KEY\")\n",
    "\n",
    "# Setup OpenAI client\n",
    "client = openai.OpenAI(api_key=os.getenv(\"OPENAI_API_KEY\"))"
   ]
  },
  {
   "cell_type": "code",
   "execution_count": 3,
   "id": "ff422679-491c-411c-aabc-431f46af106e",
   "metadata": {},
   "outputs": [
    {
     "name": "stderr",
     "output_type": "stream",
     "text": [
      "2025-06-05 17:39:56.183 WARNING streamlit.runtime.scriptrunner_utils.script_run_context: Thread 'MainThread': missing ScriptRunContext! This warning can be ignored when running in bare mode.\n",
      "2025-06-05 17:39:56.333 \n",
      "  \u001b[33m\u001b[1mWarning:\u001b[0m to view this Streamlit app on a browser, run it with the following\n",
      "  command:\n",
      "\n",
      "    streamlit run /Users/ashapondicherry/Desktop/VDU/_Projects/AIE_Bootcamp/AIE_Bootcamp_VC/activate/lib/python3.13/site-packages/ipykernel_launcher.py [ARGUMENTS]\n",
      "2025-06-05 17:39:56.333 Thread 'MainThread': missing ScriptRunContext! This warning can be ignored when running in bare mode.\n",
      "2025-06-05 17:39:56.334 Thread 'MainThread': missing ScriptRunContext! This warning can be ignored when running in bare mode.\n",
      "2025-06-05 17:39:56.334 Thread 'MainThread': missing ScriptRunContext! This warning can be ignored when running in bare mode.\n",
      "2025-06-05 17:39:56.334 Thread 'MainThread': missing ScriptRunContext! This warning can be ignored when running in bare mode.\n",
      "2025-06-05 17:39:56.334 Thread 'MainThread': missing ScriptRunContext! This warning can be ignored when running in bare mode.\n"
     ]
    },
    {
     "data": {
      "text/plain": [
       "DeltaGenerator()"
      ]
     },
     "execution_count": 3,
     "metadata": {},
     "output_type": "execute_result"
    }
   ],
   "source": [
    "# Streamlit UI\n",
    "st.title(\"🧠 LLM Python Challenge App\")\n",
    "st.write(\"👋 Welcome! This interactive app includes several Python tasks to test your data skills.\")\n",
    "st.warning(\"⚠️ Some tasks are left unfinished on purpose — **fill them in to complete the app**!\")"
   ]
  },
  {
   "cell_type": "code",
   "execution_count": null,
   "id": "bfff600b-6c87-4f97-9554-992bd624e694",
   "metadata": {},
   "outputs": [],
   "source": [
    "# 🏗️ Activity 1: Create a pandas DataFrame\n",
    "st.header(\"🏗️ Activity 1: Create a pandas DataFrame\")\n",
    "st.markdown(\"Your DataFrame should have the columns: `name` (str), `score` (int), `date` (yyyy-mm-dd).\")\n",
    "st.info(\"✍️ Task: Replace the placeholder with your own DataFrame code.\")\n",
    "\n",
    "# Placeholder: students will fill this in\n",
    "df = pd.DataFrame(\n",
    "    {'name':pd.Series(dtype='str'),\n",
    "     'score': pd.Series(dtype='int'), \n",
    "     'date': pd.Series(dtype = 'datetime64[ns]')}) # ← replace this with your DataFrame\n",
    "st.session_state.df = df"
   ]
  },
  {
   "cell_type": "code",
   "execution_count": null,
   "id": "1f666c03-e4df-4c6e-ba50-73191929e953",
   "metadata": {},
   "outputs": [],
   "source": [
    "# 🏗️ Activity 2: Preview the DataFrame\n",
    "st.header(\"🏗️ Activity 2: Preview the DataFrame\")\n",
    "st.markdown(\"Use Streamlit to display your DataFrame.\")\n",
    "\n",
    "if 'df' in st.session_state:\n",
    "    st.dataframe(st.session_state.df)\n",
    "else:\n",
    "    st.write(\"⚠️ DataFrame not defined yet — complete Activity 1!\")"
   ]
  },
  {
   "cell_type": "code",
   "execution_count": null,
   "id": "75fe4612-7b70-4ffa-8d81-dcae1daf9224",
   "metadata": {},
   "outputs": [],
   "source": [
    "# 🏗️ Activity 3: Filter data\n",
    "st.header(\"🏗️ Activity 3: Filter the DataFrame\")\n",
    "st.markdown(\"Filter rows where score > 85. Display the filtered DataFrame.\")\n",
    "st.info(\"✍️ Task: Add filtering logic here.\")"
   ]
  },
  {
   "cell_type": "code",
   "execution_count": null,
   "id": "ed2633b1-ed1c-4be1-8ed7-3852d78e363b",
   "metadata": {},
   "outputs": [],
   "source": [
    "# 🏗️ Activity 4: Use regex to extract names with A or B\n",
    "st.header(\"🏗️ Activity 4: Use regex\")\n",
    "st.markdown(\"Extract names starting with 'A' or 'B' using regex.\")\n",
    "st.info(\"✍️ Task: Use the `re` library here.\")"
   ]
  },
  {
   "cell_type": "code",
   "execution_count": null,
   "id": "bdace4f6-4bd7-4324-bb63-08dfdf82bd8d",
   "metadata": {},
   "outputs": [],
   "source": [
    "# 🏗️ Activity 5: Calculate average score by date\n",
    "st.header(\"🏗️ Activity 5: Average Score by Date\")\n",
    "st.info(\"✍️ Task: Group by date and calculate the average score.\")"
   ]
  },
  {
   "cell_type": "code",
   "execution_count": null,
   "id": "5ddb53c0-16a1-4a08-9f25-105c5a408d95",
   "metadata": {},
   "outputs": [],
   "source": [
    "# 🏗️ Activity 6: Chat with OpenAI\n",
    "st.header(\"🏗️ Activity 6: Chat with OpenAI\")\n",
    "st.markdown(\"Ask a question - what is the average score by date? What score has a student?, and the OpenAI model will respond!\")\n",
    "\n",
    "user_prompt = st.text_area(\"Enter your prompt:\", \"\")\n",
    "if st.button(\"Send to OpenAI\") and user_prompt:\n",
    "    try:\n",
    "        response = client.chat.completions.create(\n",
    "            model=\"gpt-4o-mini\",\n",
    "            messages=[{\"role\": \"user\", \"content\": user_prompt}]\n",
    "        )\n",
    "        reply = response.choices[0].message.content\n",
    "        st.success(\"Response:\")\n",
    "        st.write(reply)\n",
    "    except Exception as e:\n",
    "        st.error(f\"Error: {e}\")"
   ]
  },
  {
   "cell_type": "code",
   "execution_count": null,
   "id": "e231666c-512a-41d0-93ae-6f60da468bef",
   "metadata": {},
   "outputs": [],
   "source": []
  }
 ],
 "metadata": {
  "kernelspec": {
   "display_name": "Python (activate)",
   "language": "python",
   "name": "activate"
  },
  "language_info": {
   "codemirror_mode": {
    "name": "ipython",
    "version": 3
   },
   "file_extension": ".py",
   "mimetype": "text/x-python",
   "name": "python",
   "nbconvert_exporter": "python",
   "pygments_lexer": "ipython3",
   "version": "3.13.3"
  }
 },
 "nbformat": 4,
 "nbformat_minor": 5
}
